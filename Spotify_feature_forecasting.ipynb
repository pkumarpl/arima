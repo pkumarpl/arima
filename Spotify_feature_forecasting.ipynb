{
 "cells": [
  {
   "cell_type": "markdown",
   "metadata": {
    "colab_type": "text",
    "id": "6NPOnSoprOu6"
   },
   "source": [
    "# Forecasting Spotify top 200 features manually vs automtically using ARIMA"
   ]
  },
  {
   "cell_type": "markdown",
   "metadata": {
    "colab_type": "text",
    "id": "MsyuA0uHwUC5"
   },
   "source": [
    "## Preprocessing Spotify data"
   ]
  },
  {
   "cell_type": "code",
   "execution_count": 24,
   "metadata": {
    "colab": {},
    "colab_type": "code",
    "id": "Uqa5Ucs4r6t9"
   },
   "outputs": [],
   "source": [
    "import pandas as pd"
   ]
  },
  {
   "cell_type": "markdown",
   "metadata": {
    "colab_type": "text",
    "id": "5lZRNlAKFyQe"
   },
   "source": [
    "Import data on Spotify top 200 lists 2017-2019:"
   ]
  },
  {
   "cell_type": "code",
   "execution_count": 25,
   "metadata": {
    "colab": {},
    "colab_type": "code",
    "id": "DSb5hvr32uhX"
   },
   "outputs": [],
   "source": [
    "df = pd.read_csv(\"data/top_200_features.csv\")"
   ]
  },
  {
   "cell_type": "code",
   "execution_count": 26,
   "metadata": {
    "colab": {
     "base_uri": "https://localhost:8080/",
     "height": 581
    },
    "colab_type": "code",
    "id": "9pXoABeq2uhb",
    "outputId": "def81f74-4639-4a92-f57a-4b59365de3f6"
   },
   "outputs": [
    {
     "data": {
      "text/html": [
       "<div>\n",
       "<style scoped>\n",
       "    .dataframe tbody tr th:only-of-type {\n",
       "        vertical-align: middle;\n",
       "    }\n",
       "\n",
       "    .dataframe tbody tr th {\n",
       "        vertical-align: top;\n",
       "    }\n",
       "\n",
       "    .dataframe thead th {\n",
       "        text-align: right;\n",
       "    }\n",
       "</style>\n",
       "<table border=\"1\" class=\"dataframe\">\n",
       "  <thead>\n",
       "    <tr style=\"text-align: right;\">\n",
       "      <th></th>\n",
       "      <th>Unnamed: 0</th>\n",
       "      <th>Artist</th>\n",
       "      <th>Position</th>\n",
       "      <th>Streams</th>\n",
       "      <th>Track Name</th>\n",
       "      <th>acousticness</th>\n",
       "      <th>analysis_url</th>\n",
       "      <th>danceability</th>\n",
       "      <th>date</th>\n",
       "      <th>duration_ms</th>\n",
       "      <th>...</th>\n",
       "      <th>loudness</th>\n",
       "      <th>mode</th>\n",
       "      <th>region</th>\n",
       "      <th>speechiness</th>\n",
       "      <th>tempo</th>\n",
       "      <th>time_signature</th>\n",
       "      <th>track_href</th>\n",
       "      <th>type</th>\n",
       "      <th>uri</th>\n",
       "      <th>valence</th>\n",
       "    </tr>\n",
       "  </thead>\n",
       "  <tbody>\n",
       "    <tr>\n",
       "      <th>0</th>\n",
       "      <td>0</td>\n",
       "      <td>Ed Sheeran</td>\n",
       "      <td>1</td>\n",
       "      <td>51095759</td>\n",
       "      <td>Shape of You</td>\n",
       "      <td>0.5810</td>\n",
       "      <td>https://api.spotify.com/v1/audio-analysis/7qiZ...</td>\n",
       "      <td>0.825</td>\n",
       "      <td>2017-01-06--2017-01-13</td>\n",
       "      <td>233713.0</td>\n",
       "      <td>...</td>\n",
       "      <td>-3.183</td>\n",
       "      <td>0.0</td>\n",
       "      <td>global</td>\n",
       "      <td>0.0802</td>\n",
       "      <td>95.977</td>\n",
       "      <td>4.0</td>\n",
       "      <td>https://api.spotify.com/v1/tracks/7qiZfU4dY1lW...</td>\n",
       "      <td>audio_features</td>\n",
       "      <td>spotify:track:7qiZfU4dY1lWllzX7mPBI3</td>\n",
       "      <td>0.9310</td>\n",
       "    </tr>\n",
       "    <tr>\n",
       "      <th>1</th>\n",
       "      <td>1</td>\n",
       "      <td>Ed Sheeran</td>\n",
       "      <td>2</td>\n",
       "      <td>35168298</td>\n",
       "      <td>Castle on the Hill</td>\n",
       "      <td>0.0232</td>\n",
       "      <td>https://api.spotify.com/v1/audio-analysis/6PCU...</td>\n",
       "      <td>0.461</td>\n",
       "      <td>2017-01-06--2017-01-13</td>\n",
       "      <td>261154.0</td>\n",
       "      <td>...</td>\n",
       "      <td>-4.868</td>\n",
       "      <td>1.0</td>\n",
       "      <td>global</td>\n",
       "      <td>0.0989</td>\n",
       "      <td>135.007</td>\n",
       "      <td>4.0</td>\n",
       "      <td>https://api.spotify.com/v1/tracks/6PCUP3dWmTjc...</td>\n",
       "      <td>audio_features</td>\n",
       "      <td>spotify:track:6PCUP3dWmTjcTtXY02oFdT</td>\n",
       "      <td>0.4710</td>\n",
       "    </tr>\n",
       "    <tr>\n",
       "      <th>2</th>\n",
       "      <td>2</td>\n",
       "      <td>The Weeknd</td>\n",
       "      <td>3</td>\n",
       "      <td>24261229</td>\n",
       "      <td>Starboy</td>\n",
       "      <td>0.1650</td>\n",
       "      <td>https://api.spotify.com/v1/audio-analysis/5aAx...</td>\n",
       "      <td>0.681</td>\n",
       "      <td>2017-01-06--2017-01-13</td>\n",
       "      <td>230453.0</td>\n",
       "      <td>...</td>\n",
       "      <td>-7.028</td>\n",
       "      <td>1.0</td>\n",
       "      <td>global</td>\n",
       "      <td>0.2820</td>\n",
       "      <td>186.054</td>\n",
       "      <td>4.0</td>\n",
       "      <td>https://api.spotify.com/v1/tracks/5aAx2yezTd8z...</td>\n",
       "      <td>audio_features</td>\n",
       "      <td>spotify:track:5aAx2yezTd8zXrkmtKl66Z</td>\n",
       "      <td>0.5350</td>\n",
       "    </tr>\n",
       "    <tr>\n",
       "      <th>3</th>\n",
       "      <td>3</td>\n",
       "      <td>Clean Bandit</td>\n",
       "      <td>4</td>\n",
       "      <td>21671209</td>\n",
       "      <td>Rockabye (feat. Sean Paul &amp; Anne-Marie)</td>\n",
       "      <td>0.4060</td>\n",
       "      <td>https://api.spotify.com/v1/audio-analysis/5knu...</td>\n",
       "      <td>0.720</td>\n",
       "      <td>2017-01-06--2017-01-13</td>\n",
       "      <td>251088.0</td>\n",
       "      <td>...</td>\n",
       "      <td>-4.068</td>\n",
       "      <td>0.0</td>\n",
       "      <td>global</td>\n",
       "      <td>0.0523</td>\n",
       "      <td>101.965</td>\n",
       "      <td>4.0</td>\n",
       "      <td>https://api.spotify.com/v1/tracks/5knuzwU65gJK...</td>\n",
       "      <td>audio_features</td>\n",
       "      <td>spotify:track:5knuzwU65gJK7IF5yJsuaW</td>\n",
       "      <td>0.7420</td>\n",
       "    </tr>\n",
       "    <tr>\n",
       "      <th>4</th>\n",
       "      <td>4</td>\n",
       "      <td>ZAYN</td>\n",
       "      <td>5</td>\n",
       "      <td>21513043</td>\n",
       "      <td>I Don’t Wanna Live Forever (Fifty Shades Darke...</td>\n",
       "      <td>0.0631</td>\n",
       "      <td>https://api.spotify.com/v1/audio-analysis/3NdD...</td>\n",
       "      <td>0.735</td>\n",
       "      <td>2017-01-06--2017-01-13</td>\n",
       "      <td>245200.0</td>\n",
       "      <td>...</td>\n",
       "      <td>-8.374</td>\n",
       "      <td>1.0</td>\n",
       "      <td>global</td>\n",
       "      <td>0.0585</td>\n",
       "      <td>117.973</td>\n",
       "      <td>4.0</td>\n",
       "      <td>https://api.spotify.com/v1/tracks/3NdDpSvN911V...</td>\n",
       "      <td>audio_features</td>\n",
       "      <td>spotify:track:3NdDpSvN911VPGivFlV5d0</td>\n",
       "      <td>0.0862</td>\n",
       "    </tr>\n",
       "  </tbody>\n",
       "</table>\n",
       "<p>5 rows × 26 columns</p>\n",
       "</div>"
      ],
      "text/plain": [
       "   Unnamed: 0        Artist Position   Streams  \\\n",
       "0           0    Ed Sheeran        1  51095759   \n",
       "1           1    Ed Sheeran        2  35168298   \n",
       "2           2    The Weeknd        3  24261229   \n",
       "3           3  Clean Bandit        4  21671209   \n",
       "4           4          ZAYN        5  21513043   \n",
       "\n",
       "                                          Track Name  acousticness  \\\n",
       "0                                       Shape of You        0.5810   \n",
       "1                                 Castle on the Hill        0.0232   \n",
       "2                                            Starboy        0.1650   \n",
       "3            Rockabye (feat. Sean Paul & Anne-Marie)        0.4060   \n",
       "4  I Don’t Wanna Live Forever (Fifty Shades Darke...        0.0631   \n",
       "\n",
       "                                        analysis_url  danceability  \\\n",
       "0  https://api.spotify.com/v1/audio-analysis/7qiZ...         0.825   \n",
       "1  https://api.spotify.com/v1/audio-analysis/6PCU...         0.461   \n",
       "2  https://api.spotify.com/v1/audio-analysis/5aAx...         0.681   \n",
       "3  https://api.spotify.com/v1/audio-analysis/5knu...         0.720   \n",
       "4  https://api.spotify.com/v1/audio-analysis/3NdD...         0.735   \n",
       "\n",
       "                     date  duration_ms  ...  loudness mode  region  \\\n",
       "0  2017-01-06--2017-01-13     233713.0  ...    -3.183  0.0  global   \n",
       "1  2017-01-06--2017-01-13     261154.0  ...    -4.868  1.0  global   \n",
       "2  2017-01-06--2017-01-13     230453.0  ...    -7.028  1.0  global   \n",
       "3  2017-01-06--2017-01-13     251088.0  ...    -4.068  0.0  global   \n",
       "4  2017-01-06--2017-01-13     245200.0  ...    -8.374  1.0  global   \n",
       "\n",
       "   speechiness    tempo  time_signature  \\\n",
       "0       0.0802   95.977             4.0   \n",
       "1       0.0989  135.007             4.0   \n",
       "2       0.2820  186.054             4.0   \n",
       "3       0.0523  101.965             4.0   \n",
       "4       0.0585  117.973             4.0   \n",
       "\n",
       "                                          track_href            type  \\\n",
       "0  https://api.spotify.com/v1/tracks/7qiZfU4dY1lW...  audio_features   \n",
       "1  https://api.spotify.com/v1/tracks/6PCUP3dWmTjc...  audio_features   \n",
       "2  https://api.spotify.com/v1/tracks/5aAx2yezTd8z...  audio_features   \n",
       "3  https://api.spotify.com/v1/tracks/5knuzwU65gJK...  audio_features   \n",
       "4  https://api.spotify.com/v1/tracks/3NdDpSvN911V...  audio_features   \n",
       "\n",
       "                                    uri  valence  \n",
       "0  spotify:track:7qiZfU4dY1lWllzX7mPBI3   0.9310  \n",
       "1  spotify:track:6PCUP3dWmTjcTtXY02oFdT   0.4710  \n",
       "2  spotify:track:5aAx2yezTd8zXrkmtKl66Z   0.5350  \n",
       "3  spotify:track:5knuzwU65gJK7IF5yJsuaW   0.7420  \n",
       "4  spotify:track:3NdDpSvN911VPGivFlV5d0   0.0862  \n",
       "\n",
       "[5 rows x 26 columns]"
      ]
     },
     "execution_count": 26,
     "metadata": {},
     "output_type": "execute_result"
    }
   ],
   "source": [
    "df.head()"
   ]
  },
  {
   "cell_type": "code",
   "execution_count": 27,
   "metadata": {
    "colab": {
     "base_uri": "https://localhost:8080/",
     "height": 125
    },
    "colab_type": "code",
    "id": "5jxoWHtDH2l7",
    "outputId": "e83dd03a-c151-48fd-983f-53db4b7fc400"
   },
   "outputs": [
    {
     "data": {
      "text/plain": [
       "Index(['Unnamed: 0', 'Artist', 'Position', 'Streams', 'Track Name',\n",
       "       'acousticness', 'analysis_url', 'danceability', 'date', 'duration_ms',\n",
       "       'energy', 'id_caller', 'id_other', 'instrumentalness', 'key',\n",
       "       'liveness', 'loudness', 'mode', 'region', 'speechiness', 'tempo',\n",
       "       'time_signature', 'track_href', 'type', 'uri', 'valence'],\n",
       "      dtype='object')"
      ]
     },
     "execution_count": 27,
     "metadata": {},
     "output_type": "execute_result"
    }
   ],
   "source": [
    "df.columns"
   ]
  },
  {
   "cell_type": "markdown",
   "metadata": {
    "colab_type": "text",
    "id": "bFHf1yEKHasR"
   },
   "source": [
    "\n",
    "Let's start by dropping tracks with missing features:\n",
    "\n"
   ]
  },
  {
   "cell_type": "code",
   "execution_count": 28,
   "metadata": {
    "colab": {},
    "colab_type": "code",
    "id": "u9HQegN02uhf"
   },
   "outputs": [],
   "source": [
    "s = df[\"danceability\"].isna()\n",
    "indices = s[s == True].index.values.tolist()\n",
    "df = df.drop(index=indices)\n",
    "df = df.reset_index()"
   ]
  },
  {
   "cell_type": "markdown",
   "metadata": {
    "colab_type": "text",
    "id": "nMbXaB7wMOYB"
   },
   "source": [
    "Extracting numerical features and the date of every top 200 list:"
   ]
  },
  {
   "cell_type": "code",
   "execution_count": 29,
   "metadata": {
    "colab": {},
    "colab_type": "code",
    "id": "OlSfx6gB2uhq"
   },
   "outputs": [],
   "source": [
    "features = df.select_dtypes(include=[\"float64\"])"
   ]
  },
  {
   "cell_type": "code",
   "execution_count": 30,
   "metadata": {
    "colab": {},
    "colab_type": "code",
    "id": "hsh1DGKJ2uh5"
   },
   "outputs": [],
   "source": [
    "dates = []\n",
    "for i in range(0, df.shape[0], 200):\n",
    "    dates.append(df[\"date\"][i][:10])"
   ]
  },
  {
   "cell_type": "markdown",
   "metadata": {
    "colab_type": "text",
    "id": "G2pU5fu_MjLo"
   },
   "source": [
    "Averaging over every top 200 list and backwards filling missing weeks:"
   ]
  },
  {
   "cell_type": "code",
   "execution_count": 31,
   "metadata": {
    "colab": {},
    "colab_type": "code",
    "id": "UTBcDwMPIfVL"
   },
   "outputs": [],
   "source": [
    "feature_mean = pd.DataFrame(columns=features.columns, index=pd.to_datetime(dates))\n",
    "for feature in features.columns:\n",
    "    average = []\n",
    "    for i in range(0, df.shape[0], 200):\n",
    "        average.append(df[feature][i:i+200].mean())\n",
    "    feature_mean[feature] = average"
   ]
  },
  {
   "cell_type": "code",
   "execution_count": 32,
   "metadata": {
    "colab": {},
    "colab_type": "code",
    "id": "FxclNOg9MuDk"
   },
   "outputs": [],
   "source": [
    "feature_mean = feature_mean.asfreq(freq=\"W\", method='bfill')"
   ]
  },
  {
   "cell_type": "code",
   "execution_count": 33,
   "metadata": {
    "colab": {
     "base_uri": "https://localhost:8080/",
     "height": 309
    },
    "colab_type": "code",
    "id": "WuCvpNWK2uiA",
    "outputId": "b298baf7-1712-4ed4-89f2-c5297b1f6679"
   },
   "outputs": [
    {
     "data": {
      "text/html": [
       "<div>\n",
       "<style scoped>\n",
       "    .dataframe tbody tr th:only-of-type {\n",
       "        vertical-align: middle;\n",
       "    }\n",
       "\n",
       "    .dataframe tbody tr th {\n",
       "        vertical-align: top;\n",
       "    }\n",
       "\n",
       "    .dataframe thead th {\n",
       "        text-align: right;\n",
       "    }\n",
       "</style>\n",
       "<table border=\"1\" class=\"dataframe\">\n",
       "  <thead>\n",
       "    <tr style=\"text-align: right;\">\n",
       "      <th></th>\n",
       "      <th>acousticness</th>\n",
       "      <th>danceability</th>\n",
       "      <th>duration_ms</th>\n",
       "      <th>energy</th>\n",
       "      <th>instrumentalness</th>\n",
       "      <th>key</th>\n",
       "      <th>liveness</th>\n",
       "      <th>loudness</th>\n",
       "      <th>mode</th>\n",
       "      <th>speechiness</th>\n",
       "      <th>tempo</th>\n",
       "      <th>time_signature</th>\n",
       "      <th>valence</th>\n",
       "    </tr>\n",
       "  </thead>\n",
       "  <tbody>\n",
       "    <tr>\n",
       "      <th>2017-01-08</th>\n",
       "      <td>0.188506</td>\n",
       "      <td>0.678070</td>\n",
       "      <td>222369.595</td>\n",
       "      <td>0.659144</td>\n",
       "      <td>0.011800</td>\n",
       "      <td>5.075</td>\n",
       "      <td>0.159478</td>\n",
       "      <td>-6.011535</td>\n",
       "      <td>0.585</td>\n",
       "      <td>0.118482</td>\n",
       "      <td>121.007170</td>\n",
       "      <td>4.010</td>\n",
       "      <td>0.489789</td>\n",
       "    </tr>\n",
       "    <tr>\n",
       "      <th>2017-01-15</th>\n",
       "      <td>0.201954</td>\n",
       "      <td>0.674755</td>\n",
       "      <td>223224.455</td>\n",
       "      <td>0.648524</td>\n",
       "      <td>0.009049</td>\n",
       "      <td>5.050</td>\n",
       "      <td>0.160663</td>\n",
       "      <td>-6.093700</td>\n",
       "      <td>0.600</td>\n",
       "      <td>0.117990</td>\n",
       "      <td>120.890135</td>\n",
       "      <td>4.010</td>\n",
       "      <td>0.481608</td>\n",
       "    </tr>\n",
       "    <tr>\n",
       "      <th>2017-01-22</th>\n",
       "      <td>0.194442</td>\n",
       "      <td>0.681720</td>\n",
       "      <td>223771.285</td>\n",
       "      <td>0.651434</td>\n",
       "      <td>0.007873</td>\n",
       "      <td>5.015</td>\n",
       "      <td>0.162028</td>\n",
       "      <td>-6.021405</td>\n",
       "      <td>0.600</td>\n",
       "      <td>0.119633</td>\n",
       "      <td>120.809115</td>\n",
       "      <td>4.010</td>\n",
       "      <td>0.485549</td>\n",
       "    </tr>\n",
       "    <tr>\n",
       "      <th>2017-01-29</th>\n",
       "      <td>0.207496</td>\n",
       "      <td>0.676025</td>\n",
       "      <td>224696.305</td>\n",
       "      <td>0.652214</td>\n",
       "      <td>0.007852</td>\n",
       "      <td>5.050</td>\n",
       "      <td>0.164080</td>\n",
       "      <td>-6.073245</td>\n",
       "      <td>0.595</td>\n",
       "      <td>0.123012</td>\n",
       "      <td>120.042640</td>\n",
       "      <td>4.015</td>\n",
       "      <td>0.482391</td>\n",
       "    </tr>\n",
       "    <tr>\n",
       "      <th>2017-02-05</th>\n",
       "      <td>0.207728</td>\n",
       "      <td>0.668920</td>\n",
       "      <td>224586.910</td>\n",
       "      <td>0.655065</td>\n",
       "      <td>0.007979</td>\n",
       "      <td>4.995</td>\n",
       "      <td>0.158538</td>\n",
       "      <td>-5.951895</td>\n",
       "      <td>0.610</td>\n",
       "      <td>0.117958</td>\n",
       "      <td>121.082985</td>\n",
       "      <td>4.010</td>\n",
       "      <td>0.479712</td>\n",
       "    </tr>\n",
       "  </tbody>\n",
       "</table>\n",
       "</div>"
      ],
      "text/plain": [
       "            acousticness  danceability  duration_ms    energy  \\\n",
       "2017-01-08      0.188506      0.678070   222369.595  0.659144   \n",
       "2017-01-15      0.201954      0.674755   223224.455  0.648524   \n",
       "2017-01-22      0.194442      0.681720   223771.285  0.651434   \n",
       "2017-01-29      0.207496      0.676025   224696.305  0.652214   \n",
       "2017-02-05      0.207728      0.668920   224586.910  0.655065   \n",
       "\n",
       "            instrumentalness    key  liveness  loudness   mode  speechiness  \\\n",
       "2017-01-08          0.011800  5.075  0.159478 -6.011535  0.585     0.118482   \n",
       "2017-01-15          0.009049  5.050  0.160663 -6.093700  0.600     0.117990   \n",
       "2017-01-22          0.007873  5.015  0.162028 -6.021405  0.600     0.119633   \n",
       "2017-01-29          0.007852  5.050  0.164080 -6.073245  0.595     0.123012   \n",
       "2017-02-05          0.007979  4.995  0.158538 -5.951895  0.610     0.117958   \n",
       "\n",
       "                 tempo  time_signature   valence  \n",
       "2017-01-08  121.007170           4.010  0.489789  \n",
       "2017-01-15  120.890135           4.010  0.481608  \n",
       "2017-01-22  120.809115           4.010  0.485549  \n",
       "2017-01-29  120.042640           4.015  0.482391  \n",
       "2017-02-05  121.082985           4.010  0.479712  "
      ]
     },
     "execution_count": 33,
     "metadata": {},
     "output_type": "execute_result"
    }
   ],
   "source": [
    "feature_mean.head()"
   ]
  },
  {
   "cell_type": "markdown",
   "metadata": {
    "colab_type": "text",
    "id": "bUcR23D52uiP"
   },
   "source": [
    "## Manual forecasting using Autoregressive Integrated Moving Average (ARIMA)"
   ]
  },
  {
   "cell_type": "code",
   "execution_count": 34,
   "metadata": {
    "colab": {},
    "colab_type": "code",
    "id": "rJk7Vekr2uiQ"
   },
   "outputs": [],
   "source": [
    "from statsmodels.tsa.arima_model import ARIMA\n",
    "from statsmodels.graphics.tsaplots import plot_acf\n",
    "from statsmodels.graphics.tsaplots import plot_pacf\n",
    "from statsmodels.tsa.stattools import adfuller\n",
    "import matplotlib.pyplot as plt\n",
    "import seaborn as sns\n",
    "sns.set()"
   ]
  },
  {
   "cell_type": "markdown",
   "metadata": {
    "colab_type": "text",
    "id": "m1ieM0NsdzVB"
   },
   "source": [
    "ARIMA depend on the values p, d, q\n",
    "\n",
    "p = number of lags, AR terms\n",
    "\n",
    "d = order of differencing\n",
    "\n",
    "q = number of lagged forecast errors, MA terms"
   ]
  },
  {
   "cell_type": "code",
   "execution_count": 35,
   "metadata": {
    "colab": {},
    "colab_type": "code",
    "id": "pnTWBUhv2uid"
   },
   "outputs": [],
   "source": [
    "timeseries = feature_mean[\"acousticness\"]"
   ]
  },
  {
   "cell_type": "markdown",
   "metadata": {
    "colab_type": "text",
    "id": "y9nhpQbJcfQi"
   },
   "source": [
    "Augmented Dickey Fuller (ADF) test to see if the timeseries is stationary:"
   ]
  },
  {
   "cell_type": "code",
   "execution_count": 36,
   "metadata": {
    "colab": {
     "base_uri": "https://localhost:8080/",
     "height": 35
    },
    "colab_type": "code",
    "id": "19BI99HnbnOu",
    "outputId": "c77d18eb-2afe-40ce-9095-ed0b48bc8c96"
   },
   "outputs": [
    {
     "name": "stdout",
     "output_type": "stream",
     "text": [
      "p-value: 0.43453119367672177\n"
     ]
    }
   ],
   "source": [
    "print(\"p-value:\", adfuller(timeseries.dropna())[1])"
   ]
  },
  {
   "cell_type": "markdown",
   "metadata": {
    "colab_type": "text",
    "id": "rxatN-Ik2uij"
   },
   "source": [
    "The p-value is greater than the significance level 0.05 so it is not stationary and differencing is needed, d > 0"
   ]
  },
  {
   "cell_type": "markdown",
   "metadata": {
    "colab_type": "text",
    "id": "YwyPhFFBfQn3"
   },
   "source": [
    "#### Finding a value for d using autocorrelation:"
   ]
  },
  {
   "cell_type": "code",
   "execution_count": 37,
   "metadata": {
    "colab": {
     "base_uri": "https://localhost:8080/",
     "height": 610
    },
    "colab_type": "code",
    "id": "mzfEPOIy2uil",
    "outputId": "b0e53318-e9d3-4c93-de83-1cc2a97d785c"
   },
   "outputs": [
    {
     "data": {
      "image/png": "[encoded data removed]",
      "text/plain": [
       "<Figure size 720x720 with 3 Axes>"
      ]
     },
     "metadata": {},
     "output_type": "display_data"
    }
   ],
   "source": [
    "fig = plt.figure(figsize=(10,10))\n",
    "ax1 = fig.add_subplot(311)\n",
    "fig = plot_acf(timeseries, ax=ax1, title=\"Autocorrelation on Original Series\") \n",
    "ax2 = fig.add_subplot(312)\n",
    "fig = plot_acf(timeseries.diff().dropna(), ax=ax2, title=\"1st Order Differencing\")\n",
    "ax3 = fig.add_subplot(313)\n",
    "fig = plot_acf(timeseries.diff().diff().dropna(), ax=ax3, title=\"2nd Order Differencing\")"
   ]
  },
  {
   "cell_type": "markdown",
   "metadata": {
    "colab_type": "text",
    "id": "B3uCFf0P2uip"
   },
   "source": [
    "The timeseries is stationary at **d = 1** (all but one should be under the significance level) \n",
    "\n",
    "If your series is slightly under differenced, try adding an additional AR and if it is slightly over-differenced, maybe add an additional MA term."
   ]
  },
  {
   "cell_type": "markdown",
   "metadata": {
    "colab_type": "text",
    "id": "ySOnrEaFhVGY"
   },
   "source": [
    "#### Value for p is the amount of lags bigger than the significance level in partial autocorrelation"
   ]
  },
  {
   "cell_type": "code",
   "execution_count": 38,
   "metadata": {
    "colab": {
     "base_uri": "https://localhost:8080/",
     "height": 284
    },
    "colab_type": "code",
    "id": "oYxKtmfL2uiq",
    "outputId": "7f2200bc-6c6f-48d9-fba3-2b0f1865bdc8"
   },
   "outputs": [
    {
     "data": {
      "image/png": "[encoded data removed]",
      "text/plain": [
       "<Figure size 432x288 with 1 Axes>"
      ]
     },
     "metadata": {},
     "output_type": "display_data"
    }
   ],
   "source": [
    "plot_pacf(timeseries.diff().dropna(), lags=40) #knowing d=1 we apply diff() once\n",
    "plt.show()"
   ]
  },
  {
   "cell_type": "markdown",
   "metadata": {
    "colab_type": "text",
    "id": "gv5eEGX-2uit"
   },
   "source": [
    "Lag 1 is above the signicance level and so **p = 1**."
   ]
  },
  {
   "cell_type": "markdown",
   "metadata": {
    "colab_type": "text",
    "id": "JeutNJw_lu5Z"
   },
   "source": [
    "#### Number of q using autocorrelation on the stationary series:"
   ]
  },
  {
   "cell_type": "code",
   "execution_count": 39,
   "metadata": {
    "colab": {
     "base_uri": "https://localhost:8080/",
     "height": 284
    },
    "colab_type": "code",
    "id": "EsaMx35d2uiu",
    "outputId": "58609f8c-2b73-4393-8c57-8a9f345b8902"
   },
   "outputs": [
    {
     "data": {
      "image/png": "[encoded data removed]",
      "text/plain": [
       "<Figure size 432x288 with 1 Axes>"
      ]
     },
     "metadata": {},
     "output_type": "display_data"
    }
   ],
   "source": [
    "plot_acf(timeseries.diff().dropna())\n",
    "plt.show()"
   ]
  },
  {
   "cell_type": "markdown",
   "metadata": {
    "colab_type": "text",
    "id": "sEcDfOVJ2uiy"
   },
   "source": [
    "One above the significance level and thus **q = 1**."
   ]
  },
  {
   "cell_type": "markdown",
   "metadata": {
    "colab_type": "text",
    "id": "pba1gLiOsJkI"
   },
   "source": [
    "#### Building the model"
   ]
  },
  {
   "cell_type": "code",
   "execution_count": 40,
   "metadata": {
    "colab": {
     "base_uri": "https://localhost:8080/",
     "height": 351
    },
    "colab_type": "code",
    "id": "eczrmzh_2uiz",
    "outputId": "ca2c53b4-44cf-4a15-d171-bfd8811df5a5"
   },
   "outputs": [
    {
     "data": {
      "text/html": [
       "<table class=\"simpletable\">\n",
       "<caption>ARIMA Model Results</caption>\n",
       "<tr>\n",
       "  <th>Dep. Variable:</th>  <td>D.acousticness</td>  <th>  No. Observations:  </th>    <td>139</td>  \n",
       "</tr>\n",
       "<tr>\n",
       "  <th>Model:</th>          <td>ARIMA(1, 1, 1)</td>  <th>  Log Likelihood     </th>  <td>407.424</td>\n",
       "</tr>\n",
       "<tr>\n",
       "  <th>Method:</th>             <td>css-mle</td>     <th>  S.D. of innovations</th>   <td>0.013</td> \n",
       "</tr>\n",
       "<tr>\n",
       "  <th>Date:</th>          <td>Wed, 19 Feb 2020</td> <th>  AIC                </th> <td>-806.848</td>\n",
       "</tr>\n",
       "<tr>\n",
       "  <th>Time:</th>              <td>22:42:49</td>     <th>  BIC                </th> <td>-795.110</td>\n",
       "</tr>\n",
       "<tr>\n",
       "  <th>Sample:</th>           <td>01-15-2017</td>    <th>  HQIC               </th> <td>-802.078</td>\n",
       "</tr>\n",
       "<tr>\n",
       "  <th></th>                 <td>- 09-08-2019</td>   <th>                     </th>     <td> </td>   \n",
       "</tr>\n",
       "</table>\n",
       "<table class=\"simpletable\">\n",
       "<tr>\n",
       "            <td></td>              <th>coef</th>     <th>std err</th>      <th>z</th>      <th>P>|z|</th>  <th>[0.025</th>    <th>0.975]</th>  \n",
       "</tr>\n",
       "<tr>\n",
       "  <th>const</th>                <td>    0.0005</td> <td>    0.000</td> <td>    1.407</td> <td> 0.159</td> <td>   -0.000</td> <td>    0.001</td>\n",
       "</tr>\n",
       "<tr>\n",
       "  <th>ar.L1.D.acousticness</th> <td>    0.7630</td> <td>    0.141</td> <td>    5.427</td> <td> 0.000</td> <td>    0.487</td> <td>    1.039</td>\n",
       "</tr>\n",
       "<tr>\n",
       "  <th>ma.L1.D.acousticness</th> <td>   -0.9335</td> <td>    0.094</td> <td>   -9.967</td> <td> 0.000</td> <td>   -1.117</td> <td>   -0.750</td>\n",
       "</tr>\n",
       "</table>\n",
       "<table class=\"simpletable\">\n",
       "<caption>Roots</caption>\n",
       "<tr>\n",
       "    <td></td>   <th>            Real</th>  <th>         Imaginary</th> <th>         Modulus</th>  <th>        Frequency</th>\n",
       "</tr>\n",
       "<tr>\n",
       "  <th>AR.1</th> <td>           1.3106</td> <td>          +0.0000j</td> <td>           1.3106</td> <td>           0.0000</td>\n",
       "</tr>\n",
       "<tr>\n",
       "  <th>MA.1</th> <td>           1.0712</td> <td>          +0.0000j</td> <td>           1.0712</td> <td>           0.0000</td>\n",
       "</tr>\n",
       "</table>"
      ],
      "text/plain": [
       "<class 'statsmodels.iolib.summary.Summary'>\n",
       "\"\"\"\n",
       "                             ARIMA Model Results                              \n",
       "==============================================================================\n",
       "Dep. Variable:         D.acousticness   No. Observations:                  139\n",
       "Model:                 ARIMA(1, 1, 1)   Log Likelihood                 407.424\n",
       "Method:                       css-mle   S.D. of innovations              0.013\n",
       "Date:                Wed, 19 Feb 2020   AIC                           -806.848\n",
       "Time:                        22:42:49   BIC                           -795.110\n",
       "Sample:                    01-15-2017   HQIC                          -802.078\n",
       "                         - 09-08-2019                                         \n",
       "========================================================================================\n",
       "                           coef    std err          z      P>|z|      [0.025      0.975]\n",
       "----------------------------------------------------------------------------------------\n",
       "const                    0.0005      0.000      1.407      0.159      -0.000       0.001\n",
       "ar.L1.D.acousticness     0.7630      0.141      5.427      0.000       0.487       1.039\n",
       "ma.L1.D.acousticness    -0.9335      0.094     -9.967      0.000      -1.117      -0.750\n",
       "                                    Roots                                    \n",
       "=============================================================================\n",
       "                  Real          Imaginary           Modulus         Frequency\n",
       "-----------------------------------------------------------------------------\n",
       "AR.1            1.3106           +0.0000j            1.3106            0.0000\n",
       "MA.1            1.0712           +0.0000j            1.0712            0.0000\n",
       "-----------------------------------------------------------------------------\n",
       "\"\"\""
      ]
     },
     "execution_count": 40,
     "metadata": {},
     "output_type": "execute_result"
    }
   ],
   "source": [
    "model = ARIMA(timeseries, order=(1, 1, 1))\n",
    "results = model.fit()\n",
    "results.summary()"
   ]
  },
  {
   "cell_type": "markdown",
   "metadata": {
    "colab_type": "text",
    "id": "JebeFzOXqkyS"
   },
   "source": [
    "Akaike information criterion (AIC) estimates the relative amount of information lost by a given model. The less the better!"
   ]
  },
  {
   "cell_type": "markdown",
   "metadata": {
    "colab_type": "text",
    "id": "avWI28ncquYe"
   },
   "source": [
    "Now for the prediction:"
   ]
  },
  {
   "cell_type": "code",
   "execution_count": 41,
   "metadata": {
    "colab": {
     "base_uri": "https://localhost:8080/",
     "height": 274
    },
    "colab_type": "code",
    "id": "dzxPeo5K2ui8",
    "outputId": "b97090c1-b333-46a3-b1ad-d9dea39fadbf"
   },
   "outputs": [
    {
     "data": {
      "image/png": "[encoded data removed]",
      "text/plain": [
       "<Figure size 432x288 with 1 Axes>"
      ]
     },
     "metadata": {},
     "output_type": "display_data"
    }
   ],
   "source": [
    "graph = results.plot_predict(1, 210)\n",
    "plt.show()"
   ]
  },
  {
   "cell_type": "markdown",
   "metadata": {
    "colab_type": "text",
    "id": "lW0YJ7Bd2ui_"
   },
   "source": [
    "## Timeseries forecasting using auto_arima"
   ]
  },
  {
   "cell_type": "code",
   "execution_count": 42,
   "metadata": {
    "colab": {},
    "colab_type": "code",
    "id": "r_UIwEqMVcvk"
   },
   "outputs": [],
   "source": [
    "import pmdarima as pm"
   ]
  },
  {
   "cell_type": "code",
   "execution_count": 43,
   "metadata": {
    "colab": {},
    "colab_type": "code",
    "id": "evDOkkui2ujN"
   },
   "outputs": [],
   "source": [
    "def arimamodel(timeseries):\n",
    "    automodel = pm.auto_arima(timeseries, \n",
    "                              start_p=1, \n",
    "                              start_q=1,\n",
    "                              test=\"adf\",\n",
    "                              seasonal=False,\n",
    "                              trace=True)\n",
    "    return automodel"
   ]
  },
  {
   "cell_type": "code",
   "execution_count": 44,
   "metadata": {
    "colab": {},
    "colab_type": "code",
    "id": "V-pceM4c2ujR"
   },
   "outputs": [],
   "source": [
    "def plotarima(n_periods, timeseries, automodel):\n",
    "    # Forecast\n",
    "    fc, confint = automodel.predict(n_periods=n_periods, return_conf_int=True)\n",
    "    # Weekly index\n",
    "    fc_ind = pd.date_range(timeseries.index[timeseries.shape[0]-1], periods=n_periods, freq=\"W\")\n",
    "    # Forecast series\n",
    "    fc_series = pd.Series(fc, index=fc_ind)\n",
    "    # Upper and lower confidence bounds\n",
    "    lower_series = pd.Series(confint[:, 0], index=fc_ind)\n",
    "    upper_series = pd.Series(confint[:, 1], index=fc_ind)\n",
    "    # Create plot\n",
    "    plt.figure(figsize=(10, 6))\n",
    "    plt.plot(timeseries)\n",
    "    plt.plot(fc_series, color=\"red\")\n",
    "    plt.xlabel(\"date\")\n",
    "    plt.ylabel(timeseries.name)\n",
    "    plt.fill_between(lower_series.index, \n",
    "                     lower_series, \n",
    "                     upper_series, \n",
    "                     color=\"k\", alpha=.25)\n",
    "    plt.legend((\"past\", \"forecast\", \"95% confidence interval\"), loc=\"upper left\")\n",
    "    plt.show()"
   ]
  },
  {
   "cell_type": "code",
   "execution_count": null,
   "metadata": {
    "colab": {
     "base_uri": "https://localhost:8080/",
     "height": 478
    },
    "colab_type": "code",
    "id": "Gk2y0aEP2ujU",
    "outputId": "200107ae-1285-49dc-f822-de96a87e8a03"
   },
   "outputs": [],
   "source": [
    "automodel = arimamodel(feature_mean[\"acousticness\"])"
   ]
  },
  {
   "cell_type": "code",
   "execution_count": 48,
   "metadata": {},
   "outputs": [
    {
     "data": {
      "text/html": [
       "<table class=\"simpletable\">\n",
       "<caption>SARIMAX Results</caption>\n",
       "<tr>\n",
       "  <th>Dep. Variable:</th>           <td>y</td>        <th>  No. Observations:  </th>    <td>140</td>  \n",
       "</tr>\n",
       "<tr>\n",
       "  <th>Model:</th>           <td>SARIMAX(1, 1, 2)</td> <th>  Log Likelihood     </th>  <td>407.550</td>\n",
       "</tr>\n",
       "<tr>\n",
       "  <th>Date:</th>            <td>Wed, 19 Feb 2020</td> <th>  AIC                </th> <td>-805.100</td>\n",
       "</tr>\n",
       "<tr>\n",
       "  <th>Time:</th>                <td>22:46:49</td>     <th>  BIC                </th> <td>-790.428</td>\n",
       "</tr>\n",
       "<tr>\n",
       "  <th>Sample:</th>                  <td>0</td>        <th>  HQIC               </th> <td>-799.138</td>\n",
       "</tr>\n",
       "<tr>\n",
       "  <th></th>                      <td> - 140</td>      <th>                     </th>     <td> </td>   \n",
       "</tr>\n",
       "<tr>\n",
       "  <th>Covariance Type:</th>        <td>opg</td>       <th>                     </th>     <td> </td>   \n",
       "</tr>\n",
       "</table>\n",
       "<table class=\"simpletable\">\n",
       "<tr>\n",
       "      <td></td>         <th>coef</th>     <th>std err</th>      <th>z</th>      <th>P>|z|</th>  <th>[0.025</th>    <th>0.975]</th>  \n",
       "</tr>\n",
       "<tr>\n",
       "  <th>intercept</th> <td> 8.608e-05</td> <td>    0.000</td> <td>    0.467</td> <td> 0.640</td> <td>   -0.000</td> <td>    0.000</td>\n",
       "</tr>\n",
       "<tr>\n",
       "  <th>ar.L1</th>     <td>    0.8069</td> <td>    0.269</td> <td>    3.004</td> <td> 0.003</td> <td>    0.280</td> <td>    1.333</td>\n",
       "</tr>\n",
       "<tr>\n",
       "  <th>ma.L1</th>     <td>   -1.0229</td> <td>    0.320</td> <td>   -3.200</td> <td> 0.001</td> <td>   -1.650</td> <td>   -0.396</td>\n",
       "</tr>\n",
       "<tr>\n",
       "  <th>ma.L2</th>     <td>    0.1063</td> <td>    0.204</td> <td>    0.520</td> <td> 0.603</td> <td>   -0.294</td> <td>    0.507</td>\n",
       "</tr>\n",
       "<tr>\n",
       "  <th>sigma2</th>    <td>    0.0002</td> <td>  1.5e-05</td> <td>   11.078</td> <td> 0.000</td> <td>    0.000</td> <td>    0.000</td>\n",
       "</tr>\n",
       "</table>\n",
       "<table class=\"simpletable\">\n",
       "<tr>\n",
       "  <th>Ljung-Box (Q):</th>          <td>33.11</td> <th>  Jarque-Bera (JB):  </th> <td>625.39</td>\n",
       "</tr>\n",
       "<tr>\n",
       "  <th>Prob(Q):</th>                <td>0.77</td>  <th>  Prob(JB):          </th>  <td>0.00</td> \n",
       "</tr>\n",
       "<tr>\n",
       "  <th>Heteroskedasticity (H):</th> <td>2.39</td>  <th>  Skew:              </th>  <td>-1.78</td>\n",
       "</tr>\n",
       "<tr>\n",
       "  <th>Prob(H) (two-sided):</th>    <td>0.00</td>  <th>  Kurtosis:          </th>  <td>12.76</td>\n",
       "</tr>\n",
       "</table><br/><br/>Warnings:<br/>[1] Covariance matrix calculated using the outer product of gradients (complex-step)."
      ],
      "text/plain": [
       "<class 'statsmodels.iolib.summary.Summary'>\n",
       "\"\"\"\n",
       "                               SARIMAX Results                                \n",
       "==============================================================================\n",
       "Dep. Variable:                      y   No. Observations:                  140\n",
       "Model:               SARIMAX(1, 1, 2)   Log Likelihood                 407.550\n",
       "Date:                Wed, 19 Feb 2020   AIC                           -805.100\n",
       "Time:                        22:46:49   BIC                           -790.428\n",
       "Sample:                             0   HQIC                          -799.138\n",
       "                                - 140                                         \n",
       "Covariance Type:                  opg                                         \n",
       "==============================================================================\n",
       "                 coef    std err          z      P>|z|      [0.025      0.975]\n",
       "------------------------------------------------------------------------------\n",
       "intercept   8.608e-05      0.000      0.467      0.640      -0.000       0.000\n",
       "ar.L1          0.8069      0.269      3.004      0.003       0.280       1.333\n",
       "ma.L1         -1.0229      0.320     -3.200      0.001      -1.650      -0.396\n",
       "ma.L2          0.1063      0.204      0.520      0.603      -0.294       0.507\n",
       "sigma2         0.0002    1.5e-05     11.078      0.000       0.000       0.000\n",
       "===================================================================================\n",
       "Ljung-Box (Q):                       33.11   Jarque-Bera (JB):               625.39\n",
       "Prob(Q):                              0.77   Prob(JB):                         0.00\n",
       "Heteroskedasticity (H):               2.39   Skew:                            -1.78\n",
       "Prob(H) (two-sided):                  0.00   Kurtosis:                        12.76\n",
       "===================================================================================\n",
       "\n",
       "Warnings:\n",
       "[1] Covariance matrix calculated using the outer product of gradients (complex-step).\n",
       "\"\"\""
      ]
     },
     "execution_count": 48,
     "metadata": {},
     "output_type": "execute_result"
    }
   ],
   "source": [
    "automodel.summary()"
   ]
  },
  {
   "cell_type": "code",
   "execution_count": 46,
   "metadata": {
    "colab": {
     "base_uri": "https://localhost:8080/",
     "height": 400
    },
    "colab_type": "code",
    "id": "q4eI0TDdUTxZ",
    "outputId": "601f706c-a9fe-4de9-858c-337ce9ebd544"
   },
   "outputs": [
    {
     "data": {
      "image/png": "[encoded data removed]",
      "text/plain": [
       "<Figure size 720x432 with 1 Axes>"
      ]
     },
     "metadata": {},
     "output_type": "display_data"
    }
   ],
   "source": [
    "plotarima(70, feature_mean[\"acousticness\"], automodel)"
   ]
  },
  {
   "cell_type": "markdown",
   "metadata": {
    "colab_type": "text",
    "id": "PWJu19nmuvKG"
   },
   "source": [
    "## Discussion"
   ]
  },
  {
   "cell_type": "markdown",
   "metadata": {
    "colab_type": "text",
    "id": "5QZNMJFzuyoy"
   },
   "source": [
    "Manually we got (p, d , q) = (1, 1, 1) and auto_arima found the lowest AIC value at the same parameters!\n",
    "\n",
    "It is much less of a hazzle to use the automatic one, except for it not having a built in plot command, but that is a minor flaw IMO.\n"
   ]
  },
  {
   "cell_type": "code",
   "execution_count": null,
   "metadata": {},
   "outputs": [],
   "source": []
  }
 ],
 "metadata": {
  "colab": {
   "collapsed_sections": [
    "MsyuA0uHwUC5",
    "bUcR23D52uiP",
    "PWJu19nmuvKG"
   ],
   "name": "Spotify-feature-forecasting.ipynb",
   "provenance": []
  },
  "kernelspec": {
   "display_name": "Python 3",
   "language": "python",
   "name": "python3"
  },
  "language_info": {
   "codemirror_mode": {
    "name": "ipython",
    "version": 3
   },
   "file_extension": ".py",
   "mimetype": "text/x-python",
   "name": "python",
   "nbconvert_exporter": "python",
   "pygments_lexer": "ipython3",
   "version": "3.7.3"
  }
 },
 "nbformat": 4,
 "nbformat_minor": 1
}
